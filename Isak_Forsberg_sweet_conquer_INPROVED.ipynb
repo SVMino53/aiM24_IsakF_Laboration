{
  "cells": [
    {
      "cell_type": "markdown",
      "metadata": {
        "id": "c51bqkH1RTxf"
      },
      "source": [
        "## Laboration - Sweet & Conquer"
      ]
    },
    {
      "cell_type": "markdown",
      "metadata": {},
      "source": [
        "**[Top Secret] Intelligence Briefing**\n",
        "\n",
        "\n",
        "Mayday! Mayday! \n",
        "\n",
        "One of the farmers of Fire Nation, whilst on a trip abroad to the neighbouring Earth Kingdom, was bored and apparently threw an apple at a local peasant. \n",
        "\n",
        "Now, 24h hours later, the world is at war.\n",
        "\n",
        "The conflict first involved only Fire Nation & the Earth Kingdom - but the Water Tribe and the Air Nomads swiftly decided to join in as well (for some random reason). \n",
        "\n",
        "Rumour is that they also wanted to join in on the apple free-for-all fiesta.\n",
        "\n",
        "\n",
        "**Main objective**\n",
        "\n",
        "Evidently, to win 'the apple wars', the goal of each faction is to steal all fruits from the others.\n",
        "\n",
        "Our objective is to simulate the dynamics of this little... dispute. \n",
        "\n",
        "\n",
        "**Grading criteria & general instructions**\n",
        "\n",
        "In general, grading will be based on the code in it's entirety. Extra weight will be put on readability, so think carefully about proper variable usage, method naming & docstrings and supplemental comments. \n",
        "\n",
        "Importantly, also make sure to implement type hints wherever applicable!\n",
        "\n",
        "The tasks are categorized into difficulty tiers. To pass the lab (betyg G), you only need to work on the tasks designated with * (1 star) and completing most of them in a satisfactory manner. \n",
        "\n",
        "Succesfully completing the tasks marked with ** (two stars), and making atleast some progress on the one marked with *** (3 stars) ears your the higher grade (betyg VG).\n",
        "\n",
        "There is another task, marked with BONUS. That one has no impact on the grading, but adds a fun dynamic to the simulation. It requires the task marked with *** to tbe completed first.\n",
        "\n"
      ]
    },
    {
      "cell_type": "markdown",
      "metadata": {},
      "source": [
        "## Tasks\n",
        "\n",
        "Here's the boilerplate (starter code) for a class called Faction that you'll be working on. The instances of this class will represent the different competing factions."
      ]
    },
    {
      "cell_type": "code",
      "execution_count": 1,
      "metadata": {},
      "outputs": [],
      "source": [
        "# imports here\n",
        "\n",
        "import matplotlib.pyplot as plt\n",
        "import random\n",
        "import time\n",
        "from typing import Literal\n",
        "\n",
        "\n",
        "class Faction:\n",
        "\n",
        "    # your code here\n",
        "    # begin with __init__ and follow up by properties and setters\n",
        "\n",
        "    def __init__(self, name : str, apples : int, oranges : int, bananas : int, strawberries : int) -> None:\n",
        "        \"\"\"\n",
        "        Creates an instance of the class 'Faction'.\n",
        "\n",
        "        Args:\n",
        "            name(str): The name of the faction. ('str' containing at least 1 character)\n",
        "            apples(int): Amount of apples currently controlled. ('int' in range [0, 200])\n",
        "            oranges(int): Amount of oranges currently controlled. ('int' in range [0, 200])\n",
        "            bananas(int): Amount of bananas currently controlled. ('int' in range [0, 200])\n",
        "            strawberries(int): Amount of strawberries currently controlled. ('int' in range [0, 200])\n",
        "        \"\"\"\n",
        "        \n",
        "        self.name = name\n",
        "        self.fruits = {}\n",
        "        self.apples = apples\n",
        "        self.oranges = oranges\n",
        "        self.bananas = bananas\n",
        "        self.strawberries = strawberries\n",
        "\n",
        "\n",
        "    @property\n",
        "    def name(self) -> str:\n",
        "        \"\"\"\n",
        "        str: The name of the faction. ('str' containing at least 1 character)\n",
        "        \"\"\"\n",
        "\n",
        "        return self.__name\n",
        "    \n",
        "\n",
        "    @property\n",
        "    def fruits(self) -> dict[str, int]:\n",
        "        return self.__fruits\n",
        "    \n",
        "\n",
        "    @property\n",
        "    def apples(self) -> int:\n",
        "        \"\"\"\n",
        "        int: Amount of apples currently controlled. ('int' in range [0, 200])\n",
        "        \"\"\"\n",
        "\n",
        "        return self.fruits[\"apples\"]\n",
        "    \n",
        "\n",
        "    @property\n",
        "    def oranges(self) -> int:\n",
        "        \"\"\"\n",
        "        int: Amount of oranges currently controlled. ('int' in range [0, 200])\n",
        "        \"\"\"\n",
        "\n",
        "        return self.fruits[\"oranges\"]\n",
        "    \n",
        "\n",
        "    @property\n",
        "    def bananas(self) -> int:\n",
        "        \"\"\"\n",
        "        int: Amount of bananas currently controlled. ('int' in range [0, 200])\n",
        "        \"\"\"\n",
        "\n",
        "        return self.fruits[\"bananas\"]\n",
        "    \n",
        "\n",
        "    @property\n",
        "    def strawberries(self) -> int:\n",
        "        \"\"\"\n",
        "        int: Amount of strawberries currently controlled. ('int' in range [0, 200])\n",
        "        \"\"\"\n",
        "\n",
        "        return self.fruits[\"strawberries\"]\n",
        "    \n",
        "\n",
        "    @name.setter\n",
        "    def name(self, name : str) -> None:\n",
        "        if isinstance(name, str):\n",
        "            if name != '':\n",
        "                self.__name = name\n",
        "            \n",
        "            else:\n",
        "                raise ValueError(\"'name' is an empty string; must contain at least 1 character\")\n",
        "        \n",
        "        else:\n",
        "            raise TypeError(f\"'name' is of type '{type(name).__name__}'; must be 'str'\")\n",
        "\n",
        "\n",
        "    @fruits.setter\n",
        "    def fruits(self, fruits : dict[str, int]) -> None:\n",
        "        if isinstance(fruits, dict):\n",
        "            # TODO Check key and value types\n",
        "            self.__fruits = fruits\n",
        "\n",
        "        else:\n",
        "            raise TypeError(f\"'fruits' is of type '{type(fruits).__name__}'; must be 'dict[str, int]'\")\n",
        "\n",
        "\n",
        "    @apples.setter\n",
        "    def apples(self, apples : int) -> None:\n",
        "        if isinstance(apples, int) and not isinstance(apples, bool):\n",
        "            if 0 <= apples <= 200:\n",
        "                self.fruits[\"apples\"] = apples\n",
        "            \n",
        "            else:\n",
        "                raise ValueError(f\"'apples' contains the value {apples}; value must be in range [0, 200]\")\n",
        "        \n",
        "        else:\n",
        "            raise TypeError(f\"'apples' is of type '{type(apples).__name__}'; must be 'int'\")\n",
        "\n",
        "\n",
        "    @oranges.setter\n",
        "    def oranges(self, oranges : int) -> None:\n",
        "        if isinstance(oranges, int) and not isinstance(oranges, bool):\n",
        "            if 0 <= oranges <= 200:\n",
        "                self.fruits[\"oranges\"] = oranges\n",
        "            \n",
        "            else:\n",
        "                raise ValueError(f\"'oranges' contains the value {oranges}; value must be in range [0, 200]\")\n",
        "        \n",
        "        else:\n",
        "            raise TypeError(f\"'oranges' is of type '{type(oranges).__name__}'; must be 'int'\")\n",
        "\n",
        "\n",
        "    @bananas.setter\n",
        "    def bananas(self, bananas : int) -> None:\n",
        "        if isinstance(bananas, int) and not isinstance(bananas, bool):\n",
        "            if 0 <= bananas <= 200:\n",
        "                self.fruits[\"bananas\"] = bananas\n",
        "            \n",
        "            else:\n",
        "                raise ValueError(f\"'bananas' contains the value {bananas}; value must be in range [0, 200]\")\n",
        "        \n",
        "        else:\n",
        "            raise TypeError(f\"'bananas' is of type '{type(bananas).__name__}'; must be 'int'\")\n",
        "\n",
        "\n",
        "    @strawberries.setter\n",
        "    def strawberries(self, strawberries : int) -> None:\n",
        "        if isinstance(strawberries, int) and not isinstance(strawberries, bool):\n",
        "            if 0 <= strawberries <= 200:\n",
        "                self.fruits[\"strawberries\"] = strawberries\n",
        "            \n",
        "            else:\n",
        "                raise ValueError(f\"'strawberries' contains the value {strawberries}; value must be in range [0, 200]\")\n",
        "        \n",
        "        else:\n",
        "            raise TypeError(f\"'strawberries' is of type '{type(strawberries).__name__}'; must be 'int'\")\n",
        "\n",
        "\n",
        "    def inventory(self) -> int:\n",
        "        \"\"\"\n",
        "        Total amount of fruit currently controlled.\n",
        "\n",
        "        Returns:\n",
        "            int: Sum of all fruits.\n",
        "        \"\"\"\n",
        "\n",
        "        return sum(self.fruits.values())\n",
        "\n",
        "\n",
        "    def status(self) -> None:\n",
        "        \"\"\"\n",
        "        Prints out a message about this faction's status based on its total number of fruits.\n",
        "        \"\"\"\n",
        "        \n",
        "        total = self.inventory()\n",
        "        \n",
        "        if total <= 150:\n",
        "            print(f\"This aint nothin but a scratch! {self.name} might be struggling for the moment, but will be back with vengance!\")\n",
        "        \n",
        "        elif 150 < total <= 500:\n",
        "            print(f\"The proud {self.name} is VERY eager to toss some apples! Where are the opponents?!\")\n",
        "        \n",
        "        else:\n",
        "            print(f\"{self.name} is GODLIKE! Their position is super dominant!\")\n",
        "\n",
        "\n",
        "    def visualize_resources(self) -> None:\n",
        "        \"\"\"\n",
        "        Shows a bar graph of this faction's current inventory of fruits.\n",
        "        \"\"\"\n",
        "\n",
        "        bar_colors = []\n",
        "        \n",
        "        for amount in self.fruits.values():\n",
        "            green = min(1.0, amount/100)\n",
        "            red = min(1.0, (200 - amount)/100)\n",
        "            bar_colors.append((red, green, 0.0))\n",
        "\n",
        "        plt.bar(self.fruits.keys(), self.fruits.values(), color=bar_colors)\n",
        "        plt.ylim((0.0, 200.0))\n",
        "        plt.title(f\"{self.name}'s Inventory\")\n",
        "        plt.xlabel(\"Fruit\")\n",
        "        plt.ylabel(\"Amount\")\n",
        "        \n",
        "        plt.show()\n",
        "\n",
        "\n",
        "    def organical_growth(self) -> None:\n",
        "        \"\"\"\n",
        "        Gathers a random amount of resources for this faction.\n",
        "        \"\"\"\n",
        "\n",
        "        print(f\"Glorious {self.name} is gathering resources...\")\n",
        "\n",
        "        for fruit, amount in self.fruits:\n",
        "            if amount < 200:\n",
        "                harvest = min(random.randint(1, 5), 200 - amount)\n",
        "                amount += harvest\n",
        "                self.fruits[fruit] = amount\n",
        "                message = f\"  {self.name} has harvested {harvest} {fruit}, to a new total of {amount}!\"\n",
        "                \n",
        "                if amount == 200:\n",
        "                    message += f\" {fruit.capitalize()} is now at maximum capacity!\"\n",
        "            \n",
        "            else:\n",
        "                message = f\"  {self.name} is already at maximum capacity for {fruit}!\"\n",
        "            \n",
        "            time.sleep(1)\n",
        "            print(message)\n",
        "\n",
        "\n",
        "    def __mul__(self, other : \"Faction\") -> None:\n",
        "        \"\"\"\n",
        "        LHS faction sends an attack against RHS faction.\n",
        "        \"\"\"\n",
        "\n",
        "        if other.inventory() == 0:      # If the defender has no resources.\n",
        "            print(f\"{self.name}, have you no HONOR! {other.name} is out of resources and has already been brought to its knees! Choose another opponent!\")\n",
        "        \n",
        "        else:\n",
        "            print(f\"{self.name} decides to attack {other.name}.\")\n",
        "\n",
        "            if random.randint(1, 10) <= 7:              # If the attack is successful.\n",
        "                time.sleep(2)\n",
        "                print(f\"{self.name}'s attack is a success!\")\n",
        "\n",
        "                if random.randint(1, 10) == 1:          # If the attack is CRITICAL\n",
        "                    percentage = 0.4\n",
        "\n",
        "                    time.sleep(1)\n",
        "                    print(f\"{self.name} attacks {other.name} with a CRITICAL blow and it takes a metric ton of resources!\")\n",
        "                \n",
        "                else:\n",
        "                    percentage = 0.2\n",
        "\n",
        "                for fruit, other_amount in other.fruits:\n",
        "                    self_amount = self.fruits[fruit]\n",
        "\n",
        "                    if other_amount == 0:\n",
        "                        print(f\"There are no {fruit} to take!\")\n",
        "                        continue\n",
        "\n",
        "                    elif other_amount <= 5:\n",
        "                        transfer = other_amount\n",
        "\n",
        "                        time.sleep(1)\n",
        "                        if fruit == \"bananas\":\n",
        "                            print(f\"  The bananas has gone bad!\")\n",
        "                        \n",
        "                        else:\n",
        "                            print(f\"  Uh oh! {other.name} just lost its last {fruit}!\")\n",
        "\n",
        "                    else:\n",
        "                        transfer = round(other_amount*percentage)\n",
        "                    \n",
        "                    self_new_amount = min(self_amount + transfer, 200)\n",
        "                    self.fruits[fruit] = self_new_amount\n",
        "                    other_new_amount = other_amount - transfer\n",
        "                    other.fruits[fruit] = other_new_amount\n",
        "\n",
        "                    time.sleep(1)\n",
        "                    print(f\"  {transfer} {fruit} were taken during the attack!\")\n",
        "            \n",
        "            else:       # If the attack is unsuccessful.\n",
        "                time.sleep(2)\n",
        "                print(f\"{other.name} has skillfully defended itself and {self.name} fails to take any resources!\")\n",
        "\n",
        "    \n",
        "    def trade_offer(self, faction : \"Faction\", \n",
        "                    offered_fruit : str, \n",
        "                    offered_amount : int, \n",
        "                    requested_fruit : str, \n",
        "                    requested_amount : int) -> None:\n",
        "        \n",
        "        if not isinstance(faction, Faction):\n",
        "            raise TypeError(f\"'faction' is of type '{type(faction).__name__}'; must be 'Faction'\")\n",
        "        \n",
        "        if faction == self:\n",
        "            raise ValueError(f\"'faction' is 'self'; must be a different instance of 'Faction'\")\n",
        "        \n",
        "        if not isinstance(offered_fruit, str):\n",
        "            raise TypeError(f\"'offered_fruit' is of type '{type(offered_fruit).__name__}'; must be 'str'\")\n",
        "\n",
        "        if offered_fruit not in self.fruits.keys():\n",
        "            raise ValueError(f\"'offered_fruit' has the value {offered_fruit}; must be in {self.fruits.keys()}\")\n",
        "\n",
        "        if not isinstance(offered_amount, int) or isinstance(offered_amount, bool):\n",
        "            raise TypeError(f\"'offered_amount' is of type '{type(offered_amount).__name__}'; must be 'int'\")\n",
        "\n",
        "        if not 0 <= offered_amount <= 200:\n",
        "            raise ValueError(f\"'offered_amount' has the value {offered_amount}; must be in range [0, 200]\")\n",
        "\n",
        "        if not isinstance(requested_fruit, str):\n",
        "            raise TypeError(f\"'requested_fruit' is of type '{type(requested_fruit).__name__}'; must be 'str'\")\n",
        "\n",
        "        if requested_fruit not in self.fruits.keys():\n",
        "            raise ValueError(f\"'requested_fruit' has the value {requested_fruit}; must be in {self.fruits.keys()}\")\n",
        "        \n",
        "        if not isinstance(requested_amount, int) or isinstance(requested_amount, bool):\n",
        "            raise TypeError(f\"'requested_amount' is of type '{type(requested_amount).__name__}'; must be 'int'\")\n",
        "        \n",
        "        if not 0 <= requested_amount <= 200:\n",
        "            raise ValueError(f\"'requested_amount' has the value {requested_amount}; must be in range [0, 200]\")\n",
        "        \n",
        "\n",
        "        self_req_fruit_amount = getattr(self, requested_fruit)\n",
        "        self_off_fruit_amount = getattr(self, offered_fruit)\n",
        "        faction_req_fruit_amount = getattr(faction, requested_fruit)\n",
        "        faction_off_fruit_amount = getattr(faction, offered_fruit)\n",
        "\n",
        "        if faction_req_fruit_amount < requested_amount:\n",
        "            print(f\"{faction.name} does not have enough of the requested fruit!\")\n",
        "            \n",
        "        elif self_off_fruit_amount < offered_amount:\n",
        "            print(f\"{self.name} tries to swindle {faction.name} off its {requested_fruit}, for it doesn't have enough {offered_amount} for its offer, and it fails!\")\n",
        "            \n",
        "        elif faction_off_fruit_amount + offered_amount > 200:\n",
        "            print(f\"{faction.name} does not have enough space for the offered fruit!\")\n",
        "\n",
        "        elif self_req_fruit_amount + requested_amount > 200:\n",
        "            print(f\"{self.name} does not have enough space for the requested fruit!\")\n",
        "\n",
        "        elif requested_amount > offered_amount:\n",
        "            print(f\"{faction.name} got extremely offended by the offer and emediatly charged an attack against {self.name}!\")\n",
        "            print()\n",
        "\n",
        "            time.sleep(2)\n",
        "            faction * self\n",
        "\n",
        "        else:\n",
        "            setattr(self, requested_fruit, self_req_fruit_amount + requested_amount)\n",
        "            setattr(self, offered_fruit, self_off_fruit_amount - offered_amount)\n",
        "            setattr(faction, requested_fruit, faction_req_fruit_amount - requested_amount)\n",
        "            setattr(faction, offered_fruit, faction_off_fruit_amount + offered_amount)\n",
        "\n",
        "            print(f\"The deal between {self.name} and {faction.name} is sealed! {self.name} got {requested_amount} {requested_fruit} and {faction.name} got {offered_amount} {offered_fruit}!\")\n",
        "\n",
        "\n",
        "    def __repr__(self) -> str:\n",
        "        \"\"\"\n",
        "        Returns a string representation of this object.\n",
        "        \"\"\"\n",
        "\n",
        "        return f\"Faction(name='{self.name}', apples={self.apples}, oranges={self.oranges}, bananas={self.bananas}, strawberries={self.strawberries})\""
      ]
    },
    {
      "cell_type": "markdown",
      "metadata": {},
      "source": [
        "**1)*** \n",
        "\n",
        "* The __init__() method\n",
        "\n",
        "This method should be able to accept the following user-provided arguments: **name**, **apples**, **oranges**, **bananas**, **strawberries** and initiate corresponding attributes with the same name as the arguments. \n",
        "\n",
        "Attribute description:\n",
        "\n",
        "**name**         : the name of the faction\n",
        "\n",
        "**apples**       : amount of apples currently controlled\n",
        "\n",
        "**oranges**      : amount of oranges currently controlled\n",
        "\n",
        "**bananas**      : amount of bananas currently controlled\n",
        "\n",
        "**strawberries** : amount of strawberries currently controlled\n",
        "\n",
        "*Don't forget to define getter and setter methods for the attributes!*\n",
        "\n",
        "--\n",
        "\n",
        "Restrictions:\n",
        "\n",
        "The name should be handed in as a string. Implement relevant checks and raise TypeError (with a suitable message) else.\n",
        "\n",
        "The fruit amounts should be given in integers. Implement relevant checks and raise TypeError (with a suitable message) else.\n",
        "\n",
        "Furthermore, the fruit amounts should only be between 0-200. Implement relevant checks and raise ValueError (with a suitable message) else."
      ]
    },
    {
      "cell_type": "code",
      "execution_count": 4,
      "metadata": {},
      "outputs": [],
      "source": [
        "# you should now be able to create the following instances\n",
        "\n",
        "fire_nation = Faction('Fire Nation', 120, 120, 150, 180)\n",
        "earth_kingdom = Faction('Earth Kingdom', 6, 4, 2, 1)\n",
        "water_tribe = Faction('Water Tribe', 100, 100, 100, 100)\n",
        "air_nomads = Faction('Air Nomads', 10, 100, 60, 130)"
      ]
    },
    {
      "cell_type": "code",
      "execution_count": 204,
      "metadata": {},
      "outputs": [
        {
          "ename": "ValueError",
          "evalue": "'strawberries' contains the value 210; value must be in range [0, 200]",
          "output_type": "error",
          "traceback": [
            "\u001b[1;31m---------------------------------------------------------------------------\u001b[0m",
            "\u001b[1;31mValueError\u001b[0m                                Traceback (most recent call last)",
            "Cell \u001b[1;32mIn[204], line 3\u001b[0m\n\u001b[0;32m      1\u001b[0m \u001b[38;5;66;03m# neither one of these should not work (try each one seperatly, by commenting the others out)\u001b[39;00m\n\u001b[1;32m----> 3\u001b[0m pancake_cult \u001b[38;5;241m=\u001b[39m Faction(\u001b[38;5;124m'\u001b[39m\u001b[38;5;124mPancake Cult\u001b[39m\u001b[38;5;124m'\u001b[39m, \u001b[38;5;241m30\u001b[39m, \u001b[38;5;241m20\u001b[39m, \u001b[38;5;241m200\u001b[39m, \u001b[38;5;241m210\u001b[39m)\n",
            "Cell \u001b[1;32mIn[202], line 28\u001b[0m, in \u001b[0;36mFaction.__init__\u001b[1;34m(self, name, apples, oranges, bananas, strawberries)\u001b[0m\n\u001b[0;32m     26\u001b[0m \u001b[38;5;28mself\u001b[39m\u001b[38;5;241m.\u001b[39moranges \u001b[38;5;241m=\u001b[39m oranges\n\u001b[0;32m     27\u001b[0m \u001b[38;5;28mself\u001b[39m\u001b[38;5;241m.\u001b[39mbananas \u001b[38;5;241m=\u001b[39m bananas\n\u001b[1;32m---> 28\u001b[0m \u001b[38;5;28mself\u001b[39m\u001b[38;5;241m.\u001b[39mstrawberries \u001b[38;5;241m=\u001b[39m strawberries\n",
            "Cell \u001b[1;32mIn[202], line 116\u001b[0m, in \u001b[0;36mFaction.strawberries\u001b[1;34m(self, strawberries)\u001b[0m\n\u001b[0;32m    114\u001b[0m         \u001b[38;5;28mself\u001b[39m\u001b[38;5;241m.\u001b[39m__strawberries \u001b[38;5;241m=\u001b[39m strawberries\n\u001b[0;32m    115\u001b[0m     \u001b[38;5;28;01melse\u001b[39;00m:\n\u001b[1;32m--> 116\u001b[0m         \u001b[38;5;28;01mraise\u001b[39;00m \u001b[38;5;167;01mValueError\u001b[39;00m(\u001b[38;5;124mf\u001b[39m\u001b[38;5;124m\"\u001b[39m\u001b[38;5;124m'\u001b[39m\u001b[38;5;124mstrawberries\u001b[39m\u001b[38;5;124m'\u001b[39m\u001b[38;5;124m contains the value \u001b[39m\u001b[38;5;132;01m{\u001b[39;00mstrawberries\u001b[38;5;132;01m}\u001b[39;00m\u001b[38;5;124m; value must be in range [0, 200]\u001b[39m\u001b[38;5;124m\"\u001b[39m)\n\u001b[0;32m    117\u001b[0m \u001b[38;5;28;01melse\u001b[39;00m:\n\u001b[0;32m    118\u001b[0m     \u001b[38;5;28;01mraise\u001b[39;00m \u001b[38;5;167;01mTypeError\u001b[39;00m(\u001b[38;5;124mf\u001b[39m\u001b[38;5;124m\"\u001b[39m\u001b[38;5;124m'\u001b[39m\u001b[38;5;124mstrawberries\u001b[39m\u001b[38;5;124m'\u001b[39m\u001b[38;5;124m is of type \u001b[39m\u001b[38;5;124m'\u001b[39m\u001b[38;5;132;01m{\u001b[39;00m\u001b[38;5;28mtype\u001b[39m(strawberries)\u001b[38;5;241m.\u001b[39m\u001b[38;5;18m__name__\u001b[39m\u001b[38;5;132;01m}\u001b[39;00m\u001b[38;5;124m'\u001b[39m\u001b[38;5;124m; must be \u001b[39m\u001b[38;5;124m'\u001b[39m\u001b[38;5;124mint\u001b[39m\u001b[38;5;124m'\u001b[39m\u001b[38;5;124m\"\u001b[39m)\n",
            "\u001b[1;31mValueError\u001b[0m: 'strawberries' contains the value 210; value must be in range [0, 200]"
          ]
        }
      ],
      "source": [
        "# neither one of these should not work (try each one seperatly, by commenting the others out)\n",
        " \n",
        "pancake_cult = Faction('Pancake Cult', 30, 20, 200, 210)\n",
        "#cupcake_assassins = Faction('Cupcake Assassins', 1, 1, 1, -5)\n",
        "#milk_drinkers = Faction('Milk Drinkers', 30, [50], 200, 160)"
      ]
    },
    {
      "cell_type": "markdown",
      "metadata": {},
      "source": [
        "**2)*** \n",
        "\n",
        "* The \\_\\_repr__() method\n",
        "\n",
        "This method takes no user-provided arguments. When called on, **returns** a clear and concise string with information about the current attributes of this instance.\n",
        "\n",
        "For example, using the following code:\n",
        "\n",
        "        print(fire_nation)\n",
        "\n",
        "should print out the following string:\n",
        "\n",
        "        Faction(name='Fire Nation', apples=120, oranges=120, bananas=150, strawberries=180)"
      ]
    },
    {
      "cell_type": "code",
      "execution_count": 164,
      "metadata": {},
      "outputs": [
        {
          "name": "stdout",
          "output_type": "stream",
          "text": [
            "Faction(name='Fire Nation', apples=120, oranges=120, bananas=150, strawberries=180)\n",
            "Faction(name='Earth Kingdom', apples=6, oranges=4, bananas=2, strawberries=1)\n",
            "Faction(name='Water Tribe', apples=100, oranges=100, bananas=100, strawberries=100)\n"
          ]
        },
        {
          "ename": "NameError",
          "evalue": "name 'pancake_cult' is not defined",
          "output_type": "error",
          "traceback": [
            "\u001b[1;31m---------------------------------------------------------------------------\u001b[0m",
            "\u001b[1;31mNameError\u001b[0m                                 Traceback (most recent call last)",
            "Cell \u001b[1;32mIn[164], line 6\u001b[0m\n\u001b[0;32m      4\u001b[0m \u001b[38;5;28mprint\u001b[39m(earth_kingdom)\n\u001b[0;32m      5\u001b[0m \u001b[38;5;28mprint\u001b[39m(water_tribe)\n\u001b[1;32m----> 6\u001b[0m \u001b[38;5;28mprint\u001b[39m(pancake_cult)\n",
            "\u001b[1;31mNameError\u001b[0m: name 'pancake_cult' is not defined"
          ]
        }
      ],
      "source": [
        "# you should now be able to run this\n",
        "\n",
        "print(fire_nation)\n",
        "print(earth_kingdom)\n",
        "print(water_tribe)\n",
        "print(pancake_cult)"
      ]
    },
    {
      "cell_type": "markdown",
      "metadata": {},
      "source": [
        "**3)*** \n",
        "\n",
        "* getters and setters\n",
        "\n",
        "You should've already implemented these in problem 1) already, but if not, you really should now.\n",
        "\n",
        "They allow the user to read and alter the current values of the various private attributes.\n",
        "\n",
        "For example, using the following code:\n",
        "\n",
        "        print(fire_nation.name)\n",
        "\n",
        "should print out the following string:\n",
        "\n",
        "        Fire Nation"
      ]
    },
    {
      "cell_type": "code",
      "execution_count": 205,
      "metadata": {},
      "outputs": [
        {
          "name": "stdout",
          "output_type": "stream",
          "text": [
            "Fire Nation\n"
          ]
        }
      ],
      "source": [
        "# this code should now reproduce the output in the example\n",
        "\n",
        "print(fire_nation.name)"
      ]
    },
    {
      "cell_type": "markdown",
      "metadata": {},
      "source": [
        "**4)***\n",
        "\n",
        "* The inventory() method\n",
        "\n",
        "This method takes no user provided arguments. It **returns** the total amount of fruits the faction currently possess - and this should be a single integer. "
      ]
    },
    {
      "cell_type": "code",
      "execution_count": 206,
      "metadata": {},
      "outputs": [
        {
          "name": "stdout",
          "output_type": "stream",
          "text": [
            "Fire Nation currently has a total of 570 fruits.\n",
            "Earth Kingdom currently has a total of 13 fruits.\n",
            "Water Tribe currently has a total of 400 fruits.\n",
            "Air Nomads currently has a total of 400 fruits.\n"
          ]
        }
      ],
      "source": [
        "# try it yourself after implementing\n",
        "\n",
        "for faction in [fire_nation, earth_kingdom, water_tribe, air_nomads]:\n",
        "    print(f\"{faction.name} currently has a total of {faction.inventory()} fruits.\")"
      ]
    },
    {
      "cell_type": "markdown",
      "metadata": {},
      "source": [
        "**5)***\n",
        "\n",
        "* The status() method\n",
        "\n",
        "This method takes no user provided arguments. It prints out the state of each faction depending on the total number of fruits they currently possess.\n",
        "\n",
        "Here's a guide to what should be printed out, depending on the total number of fruits\n",
        "\n",
        "        total <= 150:\n",
        "\n",
        "                This aint nothin but a scratch! {faction_name} might be struggling for the moment, but will be back with vengance!\n",
        "\n",
        "        150 < total <= 500:\n",
        "\n",
        "                The proud {faction_name} is VERY eager to toss some apples! Where are the opponents?!\n",
        "        \n",
        "        500 < total:\n",
        "\n",
        "                {faction_name} is GODLIKE! Their position is super dominant!"
      ]
    },
    {
      "cell_type": "code",
      "execution_count": 207,
      "metadata": {},
      "outputs": [
        {
          "name": "stdout",
          "output_type": "stream",
          "text": [
            "Fire Nation is GODLIKE! Their position is super dominant!\n",
            "This aint nothin but a scratch! Earth Kingdom might be struggling for the moment, but will be back with vengance!\n",
            "The proud Water Tribe is VERY eager to toss some apples! Where are the opponents?!\n",
            "The proud Air Nomads is VERY eager to toss some apples! Where are the opponents?!\n"
          ]
        }
      ],
      "source": [
        "# try it yourself after implementing\n",
        "\n",
        "for faction in [fire_nation, earth_kingdom, water_tribe, air_nomads]:\n",
        "    faction.status()"
      ]
    },
    {
      "cell_type": "markdown",
      "metadata": {},
      "source": [
        "**6)****\n",
        "\n",
        "* The visualize_resources() method\n",
        "\n",
        "This method takes no user provided arguments. It should plot a **bar chart** which visualises the quantity of each fruit currently possessed by the faction.\n",
        "\n",
        "For bonuspoints, make sure that the color each individual bar is\n",
        "\n",
        "    green if fruit_amount >= 100\n",
        "    orange if 50 < fruit_amount <= 100\n",
        "    red if fruit_amount <= 50\n",
        "\n",
        "In general, try to make the plot 'visually appealing'. You might have to do some research online on how to do this."
      ]
    },
    {
      "cell_type": "code",
      "execution_count": 5,
      "metadata": {},
      "outputs": [
        {
          "data": {
            "image/png": "[encoded data removed]",
            "text/plain": [
              "<Figure size 640x480 with 1 Axes>"
            ]
          },
          "metadata": {},
          "output_type": "display_data"
        },
        {
          "data": {
            "image/png": "[encoded data removed]",
            "text/plain": [
              "<Figure size 640x480 with 1 Axes>"
            ]
          },
          "metadata": {},
          "output_type": "display_data"
        },
        {
          "data": {
            "image/png": "[encoded data removed]",
            "text/plain": [
              "<Figure size 640x480 with 1 Axes>"
            ]
          },
          "metadata": {},
          "output_type": "display_data"
        },
        {
          "data": {
            "image/png": "[encoded data removed]",
            "text/plain": [
              "<Figure size 640x480 with 1 Axes>"
            ]
          },
          "metadata": {},
          "output_type": "display_data"
        }
      ],
      "source": [
        "# try it yourself after implementing\n",
        "\n",
        "for faction in [fire_nation, earth_kingdom, water_tribe, air_nomads]:\n",
        "    faction.visualize_resources()"
      ]
    },
    {
      "cell_type": "markdown",
      "metadata": {},
      "source": [
        "**7)****\n",
        "\n",
        "* The organical_growth() method\n",
        "\n",
        "This method takes no user provided arguments. It represents the fact that each faction has natural farms that grow fruits.\n",
        "\n",
        "When this method is called by a faction, it should randomly increase the amound of each, individually, by a seperate random amount ranging from 1 to 5.\n",
        "\n",
        "Remember that the maximum amount of each fruit, individually, is 200. Make sure that the amount is unable to increase beyond that.\n",
        "\n",
        "Also, print out the changes that are happening. For example:\n",
        "\n",
        "    if current_amount_of_oranges < 200:\n",
        "    \n",
        "        Glorious {faction_name} has harvested 4 oranges, to a new total of 164!\n",
        "\n",
        "    if current_amount_of_oranges == 200:\n",
        "\n",
        "        Glorious {faction_name} is already at maximum capacity for oranges!\n",
        "    \n",
        "        "
      ]
    },
    {
      "cell_type": "code",
      "execution_count": 243,
      "metadata": {},
      "outputs": [
        {
          "name": "stdout",
          "output_type": "stream",
          "text": [
            "Glorious Fire Nation has harvested 2 apples, to a new total of 160!\n",
            "Glorious Fire Nation has harvested 4 oranges, to a new total of 178!\n",
            "Glorious Fire Nation has harvested 3 bananas, to a new total of 200! Bananas is now at maximum capacity!\n",
            "Glorious Fire Nation is already at maximum capacity for strawberries!\n"
          ]
        }
      ],
      "source": [
        "# try it yourself after implementing\n",
        "\n",
        "fire_nation.organical_growth()"
      ]
    },
    {
      "cell_type": "markdown",
      "metadata": {},
      "source": [
        "**8)*****\n",
        "\n",
        "* The \\_\\_mul__() method\n",
        "\n",
        "Here we go! We're going to overload the * operator to represent an attack on a rival faction!\n",
        "\n",
        "    When an attack occurs, there will be an 70% probability of it being successful. \n",
        "\n",
        "If the attack fails, the defender is considered to have defended skillfully and nothing else happens.\n",
        "\n",
        "    A successful attack will transfer, to the attacking faction, 20% of all remaining fruits (of all sorts) from the defending rival faction.\n",
        "\n",
        "In addition, if an attack is successful, there is an independent 10% probability of it being CRITICAL. This will increase the percentage looted to 40%, instead of 20%\n",
        "\n",
        "    Importantly, if the defending faction has no resources left once the attack starts, the aggressor should be prompted to choose another target since there is no GLORY in kicking down on an opponent already brought to its knees.\n",
        "\n",
        "Remember that the total number of each fruit a faction can hold can't increase beyond 200. If more is looted by the attacker  can be held by the attack, we consider those abundant fruits 'casaulties of war'. Meaning, the defending faction still loses them, but they are simply lost in the chaos and not added to the attackers stockpile.\n",
        "\n",
        "    Additionally, if for example a faction only has a few remaining (say ~5) fruits remaining of any given kind - implement some functionality for a 'humilitating blow' whereby the attacker steals all remaining fruits. This is needed since only looting percentages will make it impossible to nullify a factions resources. \n",
        "\n",
        "For each of the possible actions described above, print out some cool texts so that the user is able to clearly follow the silliness!\n",
        "\n",
        "    As an extra, you can first import time, and then add time.sleep(2) after each print, to create some suspense."
      ]
    },
    {
      "cell_type": "code",
      "execution_count": 48,
      "metadata": {},
      "outputs": [
        {
          "name": "stdout",
          "output_type": "stream",
          "text": [
            "The proud Fire Nation is VERY eager to toss some apples! Where are the opponents?!\n",
            "\n",
            "Fire Nation decides to attack Earth Kingdom.\n",
            "Fire Nation's attack is a success!\n",
            "  6 apples were taken during the attack!\n",
            "  5 oranges were taken during the attack!\n",
            "  6 bananas were taken during the attack!\n",
            "  7 strawberries were taken during the attack!\n",
            "\n"
          ]
        },
        {
          "data": {
            "image/png": "[encoded data removed]",
            "text/plain": [
              "<Figure size 640x480 with 1 Axes>"
            ]
          },
          "metadata": {},
          "output_type": "display_data"
        },
        {
          "name": "stdout",
          "output_type": "stream",
          "text": [
            "\n",
            "\n",
            "This aint nothin but a scratch! Earth Kingdom might be struggling for the moment, but will be back with vengance!\n",
            "\n",
            "Earth Kingdom decides to attack Fire Nation.\n",
            "Earth Kingdom's attack is a success!\n",
            "  21 apples were taken during the attack!\n",
            "  21 oranges were taken during the attack!\n",
            "  26 bananas were taken during the attack!\n",
            "  30 strawberries were taken during the attack!\n",
            "\n"
          ]
        },
        {
          "data": {
            "image/png": "[encoded data removed]",
            "text/plain": [
              "<Figure size 640x480 with 1 Axes>"
            ]
          },
          "metadata": {},
          "output_type": "display_data"
        },
        {
          "name": "stdout",
          "output_type": "stream",
          "text": [
            "\n",
            "\n",
            "Fire Nation currently has 389 fruits in its inventory.\n",
            "Earth Kingdom currently has 194 fruits in its inventory.\n"
          ]
        }
      ],
      "source": [
        "# try it yourself after implementing\n",
        "\n",
        "import time\n",
        "\n",
        "\n",
        "fire_nation.status()\n",
        "print()\n",
        "\n",
        "time.sleep(2)\n",
        "fire_nation * earth_kingdom\n",
        "print()\n",
        "\n",
        "time.sleep(2)\n",
        "fire_nation.visualize_resources()\n",
        "print()\n",
        "print()\n",
        "\n",
        "time.sleep(2)\n",
        "earth_kingdom.status()\n",
        "print()\n",
        "\n",
        "time.sleep(2)\n",
        "earth_kingdom * fire_nation\n",
        "print()\n",
        "\n",
        "time.sleep(2)\n",
        "earth_kingdom.visualize_resources()\n",
        "print()\n",
        "print()\n",
        "\n",
        "time.sleep(2)\n",
        "for faction in [fire_nation, earth_kingdom]:\n",
        "    print(f\"{faction.name} currently has {faction.inventory()} fruits in its inventory.\")\n"
      ]
    },
    {
      "cell_type": "markdown",
      "metadata": {},
      "source": [
        "**9) BONUS**\n",
        "\n",
        "* The trade_offer() method\n",
        "\n",
        "This method allows for the given faction to offer up a trade of resources to another faction.\n",
        "\n",
        "It should take 5 arguments: \n",
        "\n",
        "1. The faction that is being offered the trade\n",
        "2. The resource (fruit) that is being offered\n",
        "3. The amount of said resource that is being offered\n",
        "4. The resource (fruit) that is being requested in return\n",
        "5. The amount of said resource that is being requested in return\n",
        "\n",
        "The method should first check if both factions have sufficient amounts of respective resource. It should also check that no faction exceeds the 200 resources limit, should a trade go through.\n",
        "\n",
        "If any of the restrictions above is violated, the trade request should be aborted and a suitable message printed.\n",
        "\n",
        "If the conditions are favourable for an exchange, i.e., none of the restrictions are violated, then the trade should be accepted, resources exchanged and a suitable message printed. \n",
        "\n",
        "Importantly, the exchange of resources should be reflected in the actual intentories of the two factions.\n",
        "\n",
        "We can have some more fun by addic more dynamic! \n",
        "\n",
        "Implement functionality so that if the the amount of resources is *less* than the amount of resources requested, the target faction gets **incredibly insulted** an launches an instant attack! This attack is simply the one defined by the __mul__()-method we defined earlier. \n",
        "\n",
        "\n"
      ]
    },
    {
      "cell_type": "code",
      "execution_count": 29,
      "metadata": {},
      "outputs": [
        {
          "ename": "ValueError",
          "evalue": "'faction' is 'self'; must be a different instance of 'Faction'",
          "output_type": "error",
          "traceback": [
            "\u001b[1;31m---------------------------------------------------------------------------\u001b[0m",
            "\u001b[1;31mValueError\u001b[0m                                Traceback (most recent call last)",
            "Cell \u001b[1;32mIn[29], line 3\u001b[0m\n\u001b[0;32m      1\u001b[0m \u001b[38;5;66;03m# try it yourself after implementing\u001b[39;00m\n\u001b[1;32m----> 3\u001b[0m fire_nation\u001b[38;5;241m.\u001b[39mtrade_offer(fire_nation, \u001b[38;5;124m'\u001b[39m\u001b[38;5;124mapples\u001b[39m\u001b[38;5;124m'\u001b[39m, \u001b[38;5;241m0\u001b[39m, \u001b[38;5;124m'\u001b[39m\u001b[38;5;124mbananas\u001b[39m\u001b[38;5;124m'\u001b[39m, \u001b[38;5;241m1\u001b[39m)\n",
            "Cell \u001b[1;32mIn[27], line 286\u001b[0m, in \u001b[0;36mFaction.trade_offer\u001b[1;34m(self, faction, offered_fruit, offered_amount, requested_fruit, requested_amount)\u001b[0m\n\u001b[0;32m    283\u001b[0m     \u001b[38;5;28;01mraise\u001b[39;00m \u001b[38;5;167;01mTypeError\u001b[39;00m(\u001b[38;5;124mf\u001b[39m\u001b[38;5;124m\"\u001b[39m\u001b[38;5;124m'\u001b[39m\u001b[38;5;124mfaction\u001b[39m\u001b[38;5;124m'\u001b[39m\u001b[38;5;124m is of type \u001b[39m\u001b[38;5;124m'\u001b[39m\u001b[38;5;132;01m{\u001b[39;00m\u001b[38;5;28mtype\u001b[39m(faction)\u001b[38;5;241m.\u001b[39m\u001b[38;5;18m__name__\u001b[39m\u001b[38;5;132;01m}\u001b[39;00m\u001b[38;5;124m'\u001b[39m\u001b[38;5;124m; must be \u001b[39m\u001b[38;5;124m'\u001b[39m\u001b[38;5;124mFaction\u001b[39m\u001b[38;5;124m'\u001b[39m\u001b[38;5;124m\"\u001b[39m)\n\u001b[0;32m    285\u001b[0m \u001b[38;5;28;01mif\u001b[39;00m faction \u001b[38;5;241m==\u001b[39m \u001b[38;5;28mself\u001b[39m:\n\u001b[1;32m--> 286\u001b[0m     \u001b[38;5;28;01mraise\u001b[39;00m \u001b[38;5;167;01mValueError\u001b[39;00m(\u001b[38;5;124mf\u001b[39m\u001b[38;5;124m\"\u001b[39m\u001b[38;5;124m'\u001b[39m\u001b[38;5;124mfaction\u001b[39m\u001b[38;5;124m'\u001b[39m\u001b[38;5;124m is \u001b[39m\u001b[38;5;124m'\u001b[39m\u001b[38;5;124mself\u001b[39m\u001b[38;5;124m'\u001b[39m\u001b[38;5;124m; must be a different instance of \u001b[39m\u001b[38;5;124m'\u001b[39m\u001b[38;5;124mFaction\u001b[39m\u001b[38;5;124m'\u001b[39m\u001b[38;5;124m\"\u001b[39m)\n\u001b[0;32m    288\u001b[0m \u001b[38;5;28;01mif\u001b[39;00m \u001b[38;5;129;01mnot\u001b[39;00m \u001b[38;5;28misinstance\u001b[39m(offered_fruit, \u001b[38;5;28mstr\u001b[39m):\n\u001b[0;32m    289\u001b[0m     \u001b[38;5;28;01mraise\u001b[39;00m \u001b[38;5;167;01mTypeError\u001b[39;00m(\u001b[38;5;124mf\u001b[39m\u001b[38;5;124m\"\u001b[39m\u001b[38;5;124m'\u001b[39m\u001b[38;5;124moffered_fruit\u001b[39m\u001b[38;5;124m'\u001b[39m\u001b[38;5;124m is of type \u001b[39m\u001b[38;5;124m'\u001b[39m\u001b[38;5;132;01m{\u001b[39;00m\u001b[38;5;28mtype\u001b[39m(offered_fruit)\u001b[38;5;241m.\u001b[39m\u001b[38;5;18m__name__\u001b[39m\u001b[38;5;132;01m}\u001b[39;00m\u001b[38;5;124m'\u001b[39m\u001b[38;5;124m; must be \u001b[39m\u001b[38;5;124m'\u001b[39m\u001b[38;5;124mstr\u001b[39m\u001b[38;5;124m'\u001b[39m\u001b[38;5;124m\"\u001b[39m)\n",
            "\u001b[1;31mValueError\u001b[0m: 'faction' is 'self'; must be a different instance of 'Faction'"
          ]
        }
      ],
      "source": [
        "# try it yourself after implementing\n",
        "\n",
        "fire_nation.trade_offer(earth_kingdom, 'apples', 0, 'bananas', 1)"
      ]
    }
  ],
  "metadata": {
    "colab": {
      "include_colab_link": true,
      "provenance": []
    },
    "kernelspec": {
      "display_name": "base",
      "language": "python",
      "name": "python3"
    },
    "language_info": {
      "codemirror_mode": {
        "name": "ipython",
        "version": 3
      },
      "file_extension": ".py",
      "mimetype": "text/x-python",
      "name": "python",
      "nbconvert_exporter": "python",
      "pygments_lexer": "ipython3",
      "version": "3.9.13"
    }
  },
  "nbformat": 4,
  "nbformat_minor": 0
}
