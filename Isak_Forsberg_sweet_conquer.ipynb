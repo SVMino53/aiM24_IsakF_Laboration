{
  "cells": [
    {
      "cell_type": "markdown",
      "metadata": {
        "id": "c51bqkH1RTxf"
      },
      "source": [
        "## Laboration - Sweet & Conquer"
      ]
    },
    {
      "cell_type": "markdown",
      "metadata": {},
      "source": [
        "**[Top Secret] Intelligence Briefing**\n",
        "\n",
        "\n",
        "Mayday! Mayday! \n",
        "\n",
        "One of the farmers of Fire Nation, whilst on a trip abroad to the neighbouring Earth Kingdom, was bored and apparently threw an apple at a local peasant. \n",
        "\n",
        "Now, 24h hours later, the world is at war.\n",
        "\n",
        "The conflict first involved only Fire Nation & the Earth Kingdom - but the Water Tribe and the Air Nomads swiftly decided to join in as well (for some random reason). \n",
        "\n",
        "Rumour is that they also wanted to join in on the apple free-for-all fiesta.\n",
        "\n",
        "\n",
        "**Main objective**\n",
        "\n",
        "Evidently, to win 'the apple wars', the goal of each faction is to steal all fruits from the others.\n",
        "\n",
        "Our objective is to simulate the dynamics of this little... dispute. \n",
        "\n",
        "\n",
        "**Grading criteria & general instructions**\n",
        "\n",
        "In general, grading will be based on the code in it's entirety. Extra weight will be put on readability, so think carefully about proper variable usage, method naming & docstrings and supplemental comments. \n",
        "\n",
        "Importantly, also make sure to implement type hints wherever applicable!\n",
        "\n",
        "The tasks are categorized into difficulty tiers. To pass the lab (betyg G), you only need to work on the tasks designated with * (1 star) and completing most of them in a satisfactory manner. \n",
        "\n",
        "Succesfully completing the tasks marked with ** (two stars), and making atleast some progress on the one marked with *** (3 stars) ears your the higher grade (betyg VG).\n",
        "\n",
        "There is another task, marked with BONUS. That one has no impact on the grading, but adds a fun dynamic to the simulation. It requires the task marked with *** to tbe completed first.\n",
        "\n"
      ]
    },
    {
      "cell_type": "markdown",
      "metadata": {},
      "source": [
        "## Tasks\n",
        "\n",
        "Here's the boilerplate (starter code) for a class called Faction that you'll be working on. The instances of this class will represent the different competing factions."
      ]
    },
    {
      "cell_type": "code",
      "execution_count": 456,
      "metadata": {},
      "outputs": [],
      "source": [
        "# imports here\n",
        "\n",
        "import matplotlib.pyplot as plt\n",
        "import random\n",
        "import time\n",
        "from typing import Literal\n",
        "\n",
        "\n",
        "class Faction:\n",
        "\n",
        "    # your code here\n",
        "    # begin with __init__ and follow up by properties and setters\n",
        "\n",
        "    def __init__(self, name : str, apples : int, oranges : int, bananas : int, strawberries : int) -> None:\n",
        "        \"\"\"\n",
        "        Creates an instance of the class 'Faction'.\n",
        "\n",
        "        Args:\n",
        "            name(str): The name of the faction. ('str' containing at least 1 character)\n",
        "            apples(int): Amount of apples currently controlled. ('int' in range [0, 200])\n",
        "            oranges(int): Amount of oranges currently controlled. ('int' in range [0, 200])\n",
        "            bananas(int): Amount of bananas currently controlled. ('int' in range [0, 200])\n",
        "            strawberries(int): Amount of strawberries currently controlled. ('int' in range [0, 200])\n",
        "        \"\"\"\n",
        "        \n",
        "        self.name = name\n",
        "        self.apples = apples\n",
        "        self.oranges = oranges\n",
        "        self.bananas = bananas\n",
        "        self.strawberries = strawberries\n",
        "\n",
        "\n",
        "    @property\n",
        "    def name(self) -> str:\n",
        "        \"\"\"\n",
        "        str: The name of the faction. ('str' containing at least 1 character)\n",
        "        \"\"\"\n",
        "\n",
        "        return self.__name\n",
        "    \n",
        "\n",
        "    @property\n",
        "    def apples(self) -> int:\n",
        "        \"\"\"\n",
        "        int: Amount of apples currently controlled. ('int' in range [0, 200])\n",
        "        \"\"\"\n",
        "\n",
        "        return self.__apples\n",
        "    \n",
        "\n",
        "    @property\n",
        "    def oranges(self) -> int:\n",
        "        \"\"\"\n",
        "        int: Amount of oranges currently controlled. ('int' in range [0, 200])\n",
        "        \"\"\"\n",
        "\n",
        "        return self.__oranges\n",
        "    \n",
        "\n",
        "    @property\n",
        "    def bananas(self) -> int:\n",
        "        \"\"\"\n",
        "        int: Amount of bananas currently controlled. ('int' in range [0, 200])\n",
        "        \"\"\"\n",
        "\n",
        "        return self.__bananas\n",
        "    \n",
        "\n",
        "    @property\n",
        "    def strawberries(self) -> int:\n",
        "        \"\"\"\n",
        "        int: Amount of strawberries currently controlled. ('int' in range [0, 200])\n",
        "        \"\"\"\n",
        "\n",
        "        return self.__strawberries\n",
        "    \n",
        "\n",
        "    @name.setter\n",
        "    def name(self, name : str) -> None:\n",
        "        if isinstance(name, str):\n",
        "            if name != '':\n",
        "                self.__name = name\n",
        "            \n",
        "            else:\n",
        "                raise ValueError(\"'name' is an empty string; must contain at least 1 character\")\n",
        "        \n",
        "        else:\n",
        "            raise TypeError(f\"'name' is of type '{type(name).__name__}'; must be 'str'\")\n",
        "\n",
        "\n",
        "    @apples.setter\n",
        "    def apples(self, apples : int) -> None:\n",
        "        if isinstance(apples, int) and not isinstance(apples, bool):\n",
        "            if 0 <= apples <= 200:\n",
        "                self.__apples = apples\n",
        "            \n",
        "            else:\n",
        "                raise ValueError(f\"'apples' contains the value {apples}; value must be in range [0, 200]\")\n",
        "        \n",
        "        else:\n",
        "            raise TypeError(f\"'apples' is of type '{type(apples).__name__}'; must be 'int'\")\n",
        "\n",
        "\n",
        "    @oranges.setter\n",
        "    def oranges(self, oranges : int) -> None:\n",
        "        if isinstance(oranges, int) and not isinstance(oranges, bool):\n",
        "            if 0 <= oranges <= 200:\n",
        "                self.__oranges = oranges\n",
        "            \n",
        "            else:\n",
        "                raise ValueError(f\"'oranges' contains the value {oranges}; value must be in range [0, 200]\")\n",
        "        \n",
        "        else:\n",
        "            raise TypeError(f\"'oranges' is of type '{type(oranges).__name__}'; must be 'int'\")\n",
        "\n",
        "\n",
        "    @bananas.setter\n",
        "    def bananas(self, bananas : int) -> None:\n",
        "        if isinstance(bananas, int) and not isinstance(bananas, bool):\n",
        "            if 0 <= bananas <= 200:\n",
        "                self.__bananas = bananas\n",
        "            \n",
        "            else:\n",
        "                raise ValueError(f\"'bananas' contains the value {bananas}; value must be in range [0, 200]\")\n",
        "        \n",
        "        else:\n",
        "            raise TypeError(f\"'bananas' is of type '{type(bananas).__name__}'; must be 'int'\")\n",
        "\n",
        "\n",
        "    @strawberries.setter\n",
        "    def strawberries(self, strawberries : int) -> None:\n",
        "        if isinstance(strawberries, int) and not isinstance(strawberries, bool):\n",
        "            if 0 <= strawberries <= 200:\n",
        "                self.__strawberries = strawberries\n",
        "            \n",
        "            else:\n",
        "                raise ValueError(f\"'strawberries' contains the value {strawberries}; value must be in range [0, 200]\")\n",
        "        \n",
        "        else:\n",
        "            raise TypeError(f\"'strawberries' is of type '{type(strawberries).__name__}'; must be 'int'\")\n",
        "\n",
        "\n",
        "    def inventory(self) -> int:\n",
        "        \"\"\"\n",
        "        Total amount of fruit currently controlled.\n",
        "\n",
        "        Returns:\n",
        "            int: Sum of all fruits.\n",
        "        \"\"\"\n",
        "\n",
        "        return sum([self.apples, self.oranges, self.bananas, self.strawberries])\n",
        "\n",
        "\n",
        "    def status(self) -> None:\n",
        "        \"\"\"\n",
        "        Prints out a message about this faction's status based on its total number of fruits.\n",
        "        \"\"\"\n",
        "        \n",
        "        total = self.inventory()\n",
        "        \n",
        "        if total <= 150:\n",
        "            print(f\"This aint nothin but a scratch! {self.name} might be struggling for the moment, but will be back with vengance!\")\n",
        "        \n",
        "        elif 150 < total <= 500:\n",
        "            print(f\"The proud {self.name} is VERY eager to toss some apples! Where are the opponents?!\")\n",
        "        \n",
        "        else:\n",
        "            print(f\"{self.name} is GODLIKE! Their position is super dominant!\")\n",
        "\n",
        "\n",
        "    def visualize_resources(self) -> None:\n",
        "        \"\"\"\n",
        "        Shows a bar graph of this faction's current inventory of fruits.\n",
        "        \"\"\"\n",
        "\n",
        "        fruit_names_amounts = {\"apples\": self.apples,\n",
        "                               \"oranges\": self.oranges,\n",
        "                               \"bananas\": self.bananas,\n",
        "                               \"strawberries\": self.strawberries}\n",
        "        bar_colors = []\n",
        "        \n",
        "        for amount in fruit_names_amounts.values():\n",
        "            if amount >= 100:\n",
        "                bar_colors.append(\"green\")\n",
        "            \n",
        "            elif amount > 50:\n",
        "                bar_colors.append(\"orange\")\n",
        "            \n",
        "            else:\n",
        "                bar_colors.append(\"red\")\n",
        "\n",
        "        plt.bar(fruit_names_amounts.keys(), fruit_names_amounts.values(), color=bar_colors)\n",
        "        \n",
        "        plt.show()\n",
        "\n",
        "\n",
        "    def organical_growth(self) -> None:\n",
        "        \"\"\"\n",
        "        Gathers a random amount of resources for this faction.\n",
        "        \"\"\"\n",
        "\n",
        "        print(f\"Glorious {self.name} is gathering resources...\")\n",
        "\n",
        "        for fruit_name in [\"apples\", \"oranges\", \"bananas\", \"strawberries\"]:\n",
        "            amount = getattr(self, fruit_name)\n",
        "\n",
        "            if amount < 200:\n",
        "                harvest = min(random.randint(1, 5), 200 - amount)\n",
        "                amount += harvest\n",
        "                setattr(self, fruit_name, amount)\n",
        "                message = f\"  {self.name} has harvested {harvest} {fruit_name}, to a new total of {amount}!\"\n",
        "                \n",
        "                if amount == 200:\n",
        "                    message += f\" {fruit_name.capitalize()} is now at maximum capacity!\"\n",
        "            \n",
        "            else:\n",
        "                message = f\"  {self.name} is already at maximum capacity for {fruit_name}!\"\n",
        "            \n",
        "            time.sleep(2)\n",
        "            print(message)\n",
        "\n",
        "\n",
        "    def __mul__(self, other : \"Faction\") -> None:\n",
        "        \"\"\"\n",
        "        LHS faction sends an attack against RHS faction.\n",
        "        \"\"\"\n",
        "\n",
        "        if other.inventory() == 0:      # If the defender has no resources.\n",
        "            print(f\"{self.name}, have you no HONOR! {other.name} is out of resources and has already been brought to its knees! Choose another opponent!\")\n",
        "        \n",
        "        else:\n",
        "            print(f\"{self.name} decides to attack {other.name}.\")\n",
        "\n",
        "            if random.randint(1, 10) <= 7:              # If the attack is successful.\n",
        "                if random.randint(1, 10) == 1:          # If the attack is CRITICAL\n",
        "                    percentage = 0.4\n",
        "\n",
        "                    time.sleep(2)\n",
        "                    print(f\"{self.name} attacked {other.name} with a CRITICAL blow and they took a metric ton of resources!\")\n",
        "                \n",
        "                else:\n",
        "                    percentage = 0.2\n",
        "\n",
        "                for fruit_name in [\"apples\", \"oranges\", \"bananas\", \"strawberries\"]:\n",
        "                    if getattr(other, fruit_name) <= 5:\n",
        "                        transfer = getattr(other, fruit_name)\n",
        "\n",
        "                        time.sleep(2)\n",
        "                        if fruit_name == \"bananas\":\n",
        "                            print(f\"  The bananas has gone bad!\")\n",
        "                        \n",
        "                        else:\n",
        "                            print(f\"  Uh oh! {other.name} just lost their last {fruit_name}!\")\n",
        "\n",
        "                    else:\n",
        "                        transfer = round(getattr(other, fruit_name)*percentage)\n",
        "                    \n",
        "                    self_new_amount = min(getattr(self, fruit_name) + transfer, 200)\n",
        "                    setattr(self, fruit_name, self_new_amount)\n",
        "                    other_new_amount = getattr(other, fruit_name) - transfer\n",
        "                    setattr(other, fruit_name, other_new_amount)\n",
        "\n",
        "                    time.sleep(2)\n",
        "                    print(f\"  {transfer} {fruit_name} were taken during the attack!\")\n",
        "            \n",
        "            else:       # If the attack is unsuccessful.\n",
        "                time.sleep(2)\n",
        "                print(f\"{other.name} has skillfully defended itself and {self.name} failed to take any resources!\")\n",
        "\n",
        "    \n",
        "    def trade_offer(self, faction : \"Faction\", \n",
        "                    offered_fruit : str, \n",
        "                    offered_amount : int, \n",
        "                    requested_fruit : str, \n",
        "                    requested_amount : int) -> None:\n",
        "        \n",
        "        fruit_names = (\"apples\", \"oranges\", \"bananas\", \"srawberries\")\n",
        "        \n",
        "        if not isinstance(faction, \"Faction\"):\n",
        "            raise TypeError(f\"'faction' is of type '{type(faction).__name__}'; must be 'Faction'\")\n",
        "        \n",
        "        if faction == self:\n",
        "            raise ValueError(f\"'faction' is 'self'; must be a different instance of 'Faction'\")\n",
        "        \n",
        "        if not isinstance(offered_fruit, str):\n",
        "            raise TypeError(f\"'offered_fruit' is of type '{type(offered_fruit).__name__}'; must be 'str'\")\n",
        "\n",
        "        if offered_fruit not in fruit_names:\n",
        "            raise ValueError(f\"'offered_fruit' has the value {offered_fruit}; must be in {fruit_names}\")\n",
        "\n",
        "        if not isinstance(offered_amount, int) or isinstance(offered_amount, bool):\n",
        "            raise TypeError(f\"'offered_amount' is of type '{type(offered_amount).__name__}'; must be 'int'\")\n",
        "\n",
        "        if not 0 <= offered_amount <= 200:\n",
        "            raise ValueError(f\"'offered_amount' has the value {offered_amount}; must be in range [0, 200]\")\n",
        "\n",
        "        if not isinstance(requested_fruit, str):\n",
        "            raise TypeError(f\"'requested_fruit' is of type '{type(requested_fruit).__name__}'; must be 'str'\")\n",
        "\n",
        "        if requested_fruit not in fruit_names:\n",
        "            raise ValueError(f\"'requested_fruit' has the value {requested_fruit}; must be in {fruit_names}\")\n",
        "        \n",
        "        if not isinstance(requested_amount, int) or isinstance(requested_amount, bool):\n",
        "            raise TypeError(f\"'requested_amount' is of type '{type(requested_amount).__name__}'; must be 'int'\")\n",
        "        \n",
        "        if not 0 <= requested_amount <= 200:\n",
        "            raise ValueError(f\"'requested_amount' has the value {requested_amount}; must be in range [0, 200]\")\n",
        "        \n",
        "        \n",
        "\n",
        "\n",
        "    def __repr__(self) -> str:\n",
        "        \"\"\"\n",
        "        Returns a string representation of this object.\n",
        "        \"\"\"\n",
        "\n",
        "        return f\"Faction(name='{self.name}', apples={self.apples}, oranges={self.oranges}, bananas={self.bananas}, strawberries={self.strawberries})\""
      ]
    },
    {
      "cell_type": "markdown",
      "metadata": {},
      "source": [
        "**1)*** \n",
        "\n",
        "* The __init__() method\n",
        "\n",
        "This method should be able to accept the following user-provided arguments: **name**, **apples**, **oranges**, **bananas**, **strawberries** and initiate corresponding attributes with the same name as the arguments. \n",
        "\n",
        "Attribute description:\n",
        "\n",
        "**name**         : the name of the faction\n",
        "\n",
        "**apples**       : amount of apples currently controlled\n",
        "\n",
        "**oranges**      : amount of oranges currently controlled\n",
        "\n",
        "**bananas**      : amount of bananas currently controlled\n",
        "\n",
        "**strawberries** : amount of strawberries currently controlled\n",
        "\n",
        "*Don't forget to define getter and setter methods for the attributes!*\n",
        "\n",
        "--\n",
        "\n",
        "Restrictions:\n",
        "\n",
        "The name should be handed in as a string. Implement relevant checks and raise TypeError (with a suitable message) else.\n",
        "\n",
        "The fruit amounts should be given in integers. Implement relevant checks and raise TypeError (with a suitable message) else.\n",
        "\n",
        "Furthermore, the fruit amounts should only be between 0-200. Implement relevant checks and raise ValueError (with a suitable message) else."
      ]
    },
    {
      "cell_type": "code",
      "execution_count": 454,
      "metadata": {},
      "outputs": [],
      "source": [
        "# you should now be able to create the following instances\n",
        "\n",
        "fire_nation = Faction('Fire Nation', 120, 120, 150, 180)\n",
        "earth_kingdom = Faction('Earth Kingdom', 6, 4, 2, 1)\n",
        "water_tribe = Faction('Water Tribe', 100, 100, 100, 100)\n",
        "air_nomads = Faction('Air Nomads', 100, 100, 100, 100)"
      ]
    },
    {
      "cell_type": "code",
      "execution_count": 204,
      "metadata": {},
      "outputs": [
        {
          "ename": "ValueError",
          "evalue": "'strawberries' contains the value 210; value must be in range [0, 200]",
          "output_type": "error",
          "traceback": [
            "\u001b[1;31m---------------------------------------------------------------------------\u001b[0m",
            "\u001b[1;31mValueError\u001b[0m                                Traceback (most recent call last)",
            "Cell \u001b[1;32mIn[204], line 3\u001b[0m\n\u001b[0;32m      1\u001b[0m \u001b[38;5;66;03m# neither one of these should not work (try each one seperatly, by commenting the others out)\u001b[39;00m\n\u001b[1;32m----> 3\u001b[0m pancake_cult \u001b[38;5;241m=\u001b[39m Faction(\u001b[38;5;124m'\u001b[39m\u001b[38;5;124mPancake Cult\u001b[39m\u001b[38;5;124m'\u001b[39m, \u001b[38;5;241m30\u001b[39m, \u001b[38;5;241m20\u001b[39m, \u001b[38;5;241m200\u001b[39m, \u001b[38;5;241m210\u001b[39m)\n",
            "Cell \u001b[1;32mIn[202], line 28\u001b[0m, in \u001b[0;36mFaction.__init__\u001b[1;34m(self, name, apples, oranges, bananas, strawberries)\u001b[0m\n\u001b[0;32m     26\u001b[0m \u001b[38;5;28mself\u001b[39m\u001b[38;5;241m.\u001b[39moranges \u001b[38;5;241m=\u001b[39m oranges\n\u001b[0;32m     27\u001b[0m \u001b[38;5;28mself\u001b[39m\u001b[38;5;241m.\u001b[39mbananas \u001b[38;5;241m=\u001b[39m bananas\n\u001b[1;32m---> 28\u001b[0m \u001b[38;5;28mself\u001b[39m\u001b[38;5;241m.\u001b[39mstrawberries \u001b[38;5;241m=\u001b[39m strawberries\n",
            "Cell \u001b[1;32mIn[202], line 116\u001b[0m, in \u001b[0;36mFaction.strawberries\u001b[1;34m(self, strawberries)\u001b[0m\n\u001b[0;32m    114\u001b[0m         \u001b[38;5;28mself\u001b[39m\u001b[38;5;241m.\u001b[39m__strawberries \u001b[38;5;241m=\u001b[39m strawberries\n\u001b[0;32m    115\u001b[0m     \u001b[38;5;28;01melse\u001b[39;00m:\n\u001b[1;32m--> 116\u001b[0m         \u001b[38;5;28;01mraise\u001b[39;00m \u001b[38;5;167;01mValueError\u001b[39;00m(\u001b[38;5;124mf\u001b[39m\u001b[38;5;124m\"\u001b[39m\u001b[38;5;124m'\u001b[39m\u001b[38;5;124mstrawberries\u001b[39m\u001b[38;5;124m'\u001b[39m\u001b[38;5;124m contains the value \u001b[39m\u001b[38;5;132;01m{\u001b[39;00mstrawberries\u001b[38;5;132;01m}\u001b[39;00m\u001b[38;5;124m; value must be in range [0, 200]\u001b[39m\u001b[38;5;124m\"\u001b[39m)\n\u001b[0;32m    117\u001b[0m \u001b[38;5;28;01melse\u001b[39;00m:\n\u001b[0;32m    118\u001b[0m     \u001b[38;5;28;01mraise\u001b[39;00m \u001b[38;5;167;01mTypeError\u001b[39;00m(\u001b[38;5;124mf\u001b[39m\u001b[38;5;124m\"\u001b[39m\u001b[38;5;124m'\u001b[39m\u001b[38;5;124mstrawberries\u001b[39m\u001b[38;5;124m'\u001b[39m\u001b[38;5;124m is of type \u001b[39m\u001b[38;5;124m'\u001b[39m\u001b[38;5;132;01m{\u001b[39;00m\u001b[38;5;28mtype\u001b[39m(strawberries)\u001b[38;5;241m.\u001b[39m\u001b[38;5;18m__name__\u001b[39m\u001b[38;5;132;01m}\u001b[39;00m\u001b[38;5;124m'\u001b[39m\u001b[38;5;124m; must be \u001b[39m\u001b[38;5;124m'\u001b[39m\u001b[38;5;124mint\u001b[39m\u001b[38;5;124m'\u001b[39m\u001b[38;5;124m\"\u001b[39m)\n",
            "\u001b[1;31mValueError\u001b[0m: 'strawberries' contains the value 210; value must be in range [0, 200]"
          ]
        }
      ],
      "source": [
        "# neither one of these should not work (try each one seperatly, by commenting the others out)\n",
        " \n",
        "pancake_cult = Faction('Pancake Cult', 30, 20, 200, 210)\n",
        "#cupcake_assassins = Faction('Cupcake Assassins', 1, 1, 1, -5)\n",
        "#milk_drinkers = Faction('Milk Drinkers', 30, [50], 200, 160)"
      ]
    },
    {
      "cell_type": "markdown",
      "metadata": {},
      "source": [
        "**2)*** \n",
        "\n",
        "* The \\_\\_repr__() method\n",
        "\n",
        "This method takes no user-provided arguments. When called on, **returns** a clear and concise string with information about the current attributes of this instance.\n",
        "\n",
        "For example, using the following code:\n",
        "\n",
        "        print(fire_nation)\n",
        "\n",
        "should print out the following string:\n",
        "\n",
        "        Faction(name='Fire Nation', apples=120, oranges=120, bananas=150, strawberries=180)"
      ]
    },
    {
      "cell_type": "code",
      "execution_count": 164,
      "metadata": {},
      "outputs": [
        {
          "name": "stdout",
          "output_type": "stream",
          "text": [
            "Faction(name='Fire Nation', apples=120, oranges=120, bananas=150, strawberries=180)\n",
            "Faction(name='Earth Kingdom', apples=6, oranges=4, bananas=2, strawberries=1)\n",
            "Faction(name='Water Tribe', apples=100, oranges=100, bananas=100, strawberries=100)\n"
          ]
        },
        {
          "ename": "NameError",
          "evalue": "name 'pancake_cult' is not defined",
          "output_type": "error",
          "traceback": [
            "\u001b[1;31m---------------------------------------------------------------------------\u001b[0m",
            "\u001b[1;31mNameError\u001b[0m                                 Traceback (most recent call last)",
            "Cell \u001b[1;32mIn[164], line 6\u001b[0m\n\u001b[0;32m      4\u001b[0m \u001b[38;5;28mprint\u001b[39m(earth_kingdom)\n\u001b[0;32m      5\u001b[0m \u001b[38;5;28mprint\u001b[39m(water_tribe)\n\u001b[1;32m----> 6\u001b[0m \u001b[38;5;28mprint\u001b[39m(pancake_cult)\n",
            "\u001b[1;31mNameError\u001b[0m: name 'pancake_cult' is not defined"
          ]
        }
      ],
      "source": [
        "# you should now be able to run this\n",
        "\n",
        "print(fire_nation)\n",
        "print(earth_kingdom)\n",
        "print(water_tribe)\n",
        "print(pancake_cult)"
      ]
    },
    {
      "cell_type": "markdown",
      "metadata": {},
      "source": [
        "**3)*** \n",
        "\n",
        "* getters and setters\n",
        "\n",
        "You should've already implemented these in problem 1) already, but if not, you really should now.\n",
        "\n",
        "They allow the user to read and alter the current values of the various private attributes.\n",
        "\n",
        "For example, using the following code:\n",
        "\n",
        "        print(fire_nation.name)\n",
        "\n",
        "should print out the following string:\n",
        "\n",
        "        Fire Nation"
      ]
    },
    {
      "cell_type": "code",
      "execution_count": 205,
      "metadata": {},
      "outputs": [
        {
          "name": "stdout",
          "output_type": "stream",
          "text": [
            "Fire Nation\n"
          ]
        }
      ],
      "source": [
        "# this code should now reproduce the output in the example\n",
        "\n",
        "print(fire_nation.name)"
      ]
    },
    {
      "cell_type": "markdown",
      "metadata": {},
      "source": [
        "**4)***\n",
        "\n",
        "* The inventory() method\n",
        "\n",
        "This method takes no user provided arguments. It **returns** the total amount of fruits the faction currently possess - and this should be a single integer. "
      ]
    },
    {
      "cell_type": "code",
      "execution_count": 206,
      "metadata": {},
      "outputs": [
        {
          "name": "stdout",
          "output_type": "stream",
          "text": [
            "Fire Nation currently has a total of 570 fruits.\n",
            "Earth Kingdom currently has a total of 13 fruits.\n",
            "Water Tribe currently has a total of 400 fruits.\n",
            "Air Nomads currently has a total of 400 fruits.\n"
          ]
        }
      ],
      "source": [
        "# try it yourself after implementing\n",
        "\n",
        "for faction in [fire_nation, earth_kingdom, water_tribe, air_nomads]:\n",
        "    print(f\"{faction.name} currently has a total of {faction.inventory()} fruits.\")"
      ]
    },
    {
      "cell_type": "markdown",
      "metadata": {},
      "source": [
        "**5)***\n",
        "\n",
        "* The status() method\n",
        "\n",
        "This method takes no user provided arguments. It prints out the state of each faction depending on the total number of fruits they currently possess.\n",
        "\n",
        "Here's a guide to what should be printed out, depending on the total number of fruits\n",
        "\n",
        "        total <= 150:\n",
        "\n",
        "                This aint nothin but a scratch! {faction_name} might be struggling for the moment, but will be back with vengance!\n",
        "\n",
        "        150 < total <= 500:\n",
        "\n",
        "                The proud {faction_name} is VERY eager to toss some apples! Where are the opponents?!\n",
        "        \n",
        "        500 < total:\n",
        "\n",
        "                {faction_name} is GODLIKE! Their position is super dominant!"
      ]
    },
    {
      "cell_type": "code",
      "execution_count": 207,
      "metadata": {},
      "outputs": [
        {
          "name": "stdout",
          "output_type": "stream",
          "text": [
            "Fire Nation is GODLIKE! Their position is super dominant!\n",
            "This aint nothin but a scratch! Earth Kingdom might be struggling for the moment, but will be back with vengance!\n",
            "The proud Water Tribe is VERY eager to toss some apples! Where are the opponents?!\n",
            "The proud Air Nomads is VERY eager to toss some apples! Where are the opponents?!\n"
          ]
        }
      ],
      "source": [
        "# try it yourself after implementing\n",
        "\n",
        "for faction in [fire_nation, earth_kingdom, water_tribe, air_nomads]:\n",
        "    faction.status()"
      ]
    },
    {
      "cell_type": "markdown",
      "metadata": {},
      "source": [
        "**6)****\n",
        "\n",
        "* The visualize_resources() method\n",
        "\n",
        "This method takes no user provided arguments. It should plot a **bar chart** which visualises the quantity of each fruit currently possessed by the faction.\n",
        "\n",
        "For bonuspoints, make sure that the color each individual bar is\n",
        "\n",
        "    green if fruit_amount >= 100\n",
        "    orange if 50 < fruit_amount <= 100\n",
        "    red if fruit_amount <= 50\n",
        "\n",
        "In general, try to make the plot 'visually appealing'. You might have to do some research online on how to do this."
      ]
    },
    {
      "cell_type": "code",
      "execution_count": 208,
      "metadata": {},
      "outputs": [
        {
          "data": {
            "image/png": "[encoded data removed]",
            "text/plain": [
              "<Figure size 640x480 with 1 Axes>"
            ]
          },
          "metadata": {},
          "output_type": "display_data"
        },
        {
          "data": {
            "image/png": "[encoded data removed]",
            "text/plain": [
              "<Figure size 640x480 with 1 Axes>"
            ]
          },
          "metadata": {},
          "output_type": "display_data"
        },
        {
          "data": {
            "image/png": "[encoded data removed]",
            "text/plain": [
              "<Figure size 640x480 with 1 Axes>"
            ]
          },
          "metadata": {},
          "output_type": "display_data"
        },
        {
          "data": {
            "image/png": "[encoded data removed]",
            "text/plain": [
              "<Figure size 640x480 with 1 Axes>"
            ]
          },
          "metadata": {},
          "output_type": "display_data"
        }
      ],
      "source": [
        "# try it yourself after implementing\n",
        "\n",
        "for faction in [fire_nation, earth_kingdom, water_tribe, air_nomads]:\n",
        "    faction.visualize_resources()"
      ]
    },
    {
      "cell_type": "markdown",
      "metadata": {},
      "source": [
        "**7)****\n",
        "\n",
        "* The organical_growth() method\n",
        "\n",
        "This method takes no user provided arguments. It represents the fact that each faction has natural farms that grow fruits.\n",
        "\n",
        "When this method is called by a faction, it should randomly increase the amound of each, individually, by a seperate random amount ranging from 1 to 5.\n",
        "\n",
        "Remember that the maximum amount of each fruit, individually, is 200. Make sure that the amount is unable to increase beyond that.\n",
        "\n",
        "Also, print out the changes that are happening. For example:\n",
        "\n",
        "    if current_amount_of_oranges < 200:\n",
        "    \n",
        "        Glorious {faction_name} has harvested 4 oranges, to a new total of 164!\n",
        "\n",
        "    if current_amount_of_oranges == 200:\n",
        "\n",
        "        Glorious {faction_name} is already at maximum capacity for oranges!\n",
        "    \n",
        "        "
      ]
    },
    {
      "cell_type": "code",
      "execution_count": 243,
      "metadata": {},
      "outputs": [
        {
          "name": "stdout",
          "output_type": "stream",
          "text": [
            "Glorious Fire Nation has harvested 2 apples, to a new total of 160!\n",
            "Glorious Fire Nation has harvested 4 oranges, to a new total of 178!\n",
            "Glorious Fire Nation has harvested 3 bananas, to a new total of 200! Bananas is now at maximum capacity!\n",
            "Glorious Fire Nation is already at maximum capacity for strawberries!\n"
          ]
        }
      ],
      "source": [
        "# try it yourself after implementing\n",
        "\n",
        "fire_nation.organical_growth()"
      ]
    },
    {
      "cell_type": "markdown",
      "metadata": {},
      "source": [
        "**8)*****\n",
        "\n",
        "* The \\_\\_mul__() method\n",
        "\n",
        "Here we go! We're going to overload the * operator to represent an attack on a rival faction!\n",
        "\n",
        "    When an attack occurs, there will be an 70% probability of it being successful. \n",
        "\n",
        "If the attack fails, the defender is considered to have defended skillfully and nothing else happens.\n",
        "\n",
        "    A successful attack will transfer, to the attacking faction, 20% of all remaining fruits (of all sorts) from the defending rival faction.\n",
        "\n",
        "In addition, if an attack is successful, there is an independent 10% probability of it being CRITICAL. This will increase the percentage looted to 40%, instead of 20%\n",
        "\n",
        "    Importantly, if the defending faction has no resources left once the attack starts, the aggressor should be prompted to choose another target since there is no GLORY in kicking down on an opponent already brought to its knees.\n",
        "\n",
        "Remember that the total number of each fruit a faction can hold can't increase beyond 200. If more is looted by the attacker  can be held by the attack, we consider those abundant fruits 'casaulties of war'. Meaning, the defending faction still loses them, but they are simply lost in the chaos and not added to the attackers stockpile.\n",
        "\n",
        "    Additionally, if for example a faction only has a few remaining (say ~5) fruits remaining of any given kind - implement some functionality for a 'humilitating blow' whereby the attacker steals all remaining fruits. This is needed since only looting percentages will make it impossible to nullify a factions resources. \n",
        "\n",
        "For each of the possible actions described above, print out some cool texts so that the user is able to clearly follow the silliness!\n",
        "\n",
        "    As an extra, you can first import time, and then add time.sleep(2) after each print, to create some suspense."
      ]
    },
    {
      "cell_type": "code",
      "execution_count": 455,
      "metadata": {},
      "outputs": [
        {
          "name": "stdout",
          "output_type": "stream",
          "text": [
            "Fire Nation is GODLIKE! Their position is super dominant!\n",
            "\n",
            "Fire Nation decides to attack Earth Kingdom.\n",
            "  1 apples were taken during the attack!\n",
            "  Uh oh! Earth Kingdom just lost their last oranges!\n",
            "  4 oranges were taken during the attack!\n",
            "  The bananas has gone bad!\n",
            "  2 bananas were taken during the attack!\n",
            "  Uh oh! Earth Kingdom just lost their last strawberries!\n",
            "  1 strawberries were taken during the attack!\n",
            "\n"
          ]
        },
        {
          "data": {
            "image/png": "[encoded data removed]",
            "text/plain": [
              "<Figure size 640x480 with 1 Axes>"
            ]
          },
          "metadata": {},
          "output_type": "display_data"
        },
        {
          "name": "stdout",
          "output_type": "stream",
          "text": [
            "\n",
            "\n",
            "This aint nothin but a scratch! Earth Kingdom might be struggling for the moment, but will be back with vengance!\n",
            "\n",
            "Earth Kingdom decides to attack Fire Nation.\n",
            "  24 apples were taken during the attack!\n",
            "  25 oranges were taken during the attack!\n",
            "  30 bananas were taken during the attack!\n",
            "  36 strawberries were taken during the attack!\n",
            "\n"
          ]
        },
        {
          "data": {
            "image/png": "[encoded data removed]",
            "text/plain": [
              "<Figure size 640x480 with 1 Axes>"
            ]
          },
          "metadata": {},
          "output_type": "display_data"
        },
        {
          "name": "stdout",
          "output_type": "stream",
          "text": [
            "\n",
            "\n",
            "Fire Nation currently has 463 fruits in its inventory.\n",
            "Earth Kingdom currently has 120 fruits in its inventory.\n"
          ]
        }
      ],
      "source": [
        "# try it yourself after implementing\n",
        "\n",
        "import time\n",
        "\n",
        "\n",
        "fire_nation.status()\n",
        "print()\n",
        "\n",
        "time.sleep(2)\n",
        "fire_nation * earth_kingdom\n",
        "print()\n",
        "\n",
        "time.sleep(2)\n",
        "fire_nation.visualize_resources()\n",
        "print()\n",
        "print()\n",
        "\n",
        "time.sleep(2)\n",
        "earth_kingdom.status()\n",
        "print()\n",
        "\n",
        "time.sleep(2)\n",
        "earth_kingdom * fire_nation\n",
        "print()\n",
        "\n",
        "time.sleep(2)\n",
        "earth_kingdom.visualize_resources()\n",
        "print()\n",
        "print()\n",
        "\n",
        "time.sleep(2)\n",
        "for faction in [fire_nation, earth_kingdom]:\n",
        "    print(f\"{faction.name} currently has {faction.inventory()} fruits in its inventory.\")\n"
      ]
    },
    {
      "cell_type": "markdown",
      "metadata": {},
      "source": [
        "**9) BONUS**\n",
        "\n",
        "* The trade_offer() method\n",
        "\n",
        "This method allows for the given faction to offer up a trade of resources to another faction.\n",
        "\n",
        "It should take 5 arguments: \n",
        "\n",
        "1. The faction that is being offered the trade\n",
        "2. The resource (fruit) that is being offered\n",
        "3. The amount of said resource that is being offered\n",
        "4. The resource (fruit) that is being requested in return\n",
        "5. The amount of said resource that is being requested in return\n",
        "\n",
        "The method should first check if both factions have sufficient amounts of respective resource. It should also check that no faction exceeds the 200 resources limit, should a trade go through.\n",
        "\n",
        "If any of the restrictions above is violated, the trade request should be aborted and a suitable message printed.\n",
        "\n",
        "If the conditions are favourable for an exchange, i.e., none of the restrictions are violated, then the trade should be accepted, resources exchanged and a suitable message printed. \n",
        "\n",
        "Importantly, the exchange of resources should be reflected in the actual intentories of the two factions.\n",
        "\n",
        "We can have some more fun by addic more dynamic! \n",
        "\n",
        "Implement functionality so that if the the amount of resources is *less* than the amount of resources requested, the target faction gets **incredibly insulted** an launches an instant attack! This attack is simply the one defined by the __mul__()-method we defined earlier. \n",
        "\n",
        "\n"
      ]
    },
    {
      "cell_type": "code",
      "execution_count": 124,
      "metadata": {},
      "outputs": [],
      "source": [
        "# try it yourself after implementing"
      ]
    },
    {
      "cell_type": "code",
      "execution_count": null,
      "metadata": {},
      "outputs": [],
      "source": []
    }
  ],
  "metadata": {
    "colab": {
      "include_colab_link": true,
      "provenance": []
    },
    "kernelspec": {
      "display_name": "introduktion",
      "language": "python",
      "name": "python3"
    },
    "language_info": {
      "codemirror_mode": {
        "name": "ipython",
        "version": 3
      },
      "file_extension": ".py",
      "mimetype": "text/x-python",
      "name": "python",
      "nbconvert_exporter": "python",
      "pygments_lexer": "ipython3",
      "version": "3.12.0"
    }
  },
  "nbformat": 4,
  "nbformat_minor": 0
}
